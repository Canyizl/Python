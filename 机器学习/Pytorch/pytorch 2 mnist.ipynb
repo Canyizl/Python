{
 "cells": [
  {
   "cell_type": "code",
   "execution_count": 12,
   "metadata": {},
   "outputs": [],
   "source": [
    "import os\n",
    "import requests"
   ]
  },
  {
   "cell_type": "code",
   "execution_count": 13,
   "metadata": {},
   "outputs": [],
   "source": [
    "dataPath = \"C:/Users/Administrator/Desktop/导师/2020 9 22/python代码/\"\n",
    "path = dataPath + \"mnist/\"\n",
    "\n",
    "if not os.path.exists(path):\n",
    "    os.mkdir(path)\n",
    "\n",
    "URL = \"http://deeplearning.net/data/mnist/\"\n",
    "filename=\"mnist.pkl.gz\"\n",
    "\n",
    "if not os.path.exists(path+filename):\n",
    "    content = requests.get(URL+filename).content\n",
    "    with open(path+filename, \"wb\") as f:\n",
    "        f.write(content)"
   ]
  },
  {
   "cell_type": "code",
   "execution_count": 14,
   "metadata": {},
   "outputs": [],
   "source": [
    "import pickle\n",
    "import gzip"
   ]
  },
  {
   "cell_type": "code",
   "execution_count": 15,
   "metadata": {},
   "outputs": [],
   "source": [
    "filename2 = \"mnist.pkl.gz\"\n",
    "\n",
    "with gzip.open(path+filename2) as f:\n",
    "    ((x_train, y_train),(x_valid, y_valid),_) = pickle.load(f, encoding='latin1')"
   ]
  },
  {
   "cell_type": "code",
   "execution_count": 16,
   "metadata": {},
   "outputs": [
    {
     "name": "stdout",
     "output_type": "stream",
     "text": [
      "(50000, 784)\n"
     ]
    },
    {
     "data": {
      "image/png": "[encoded data removed]",
      "text/plain": [
       "<Figure size 432x288 with 1 Axes>"
      ]
     },
     "metadata": {
      "needs_background": "light"
     },
     "output_type": "display_data"
    }
   ],
   "source": [
    "from matplotlib import pyplot\n",
    "import numpy as np\n",
    "\n",
    "pyplot.imshow(x_train[0].reshape((28,28)),cmap=\"gray\")\n",
    "print(x_train.shape)"
   ]
  },
  {
   "cell_type": "code",
   "execution_count": 17,
   "metadata": {},
   "outputs": [
    {
     "name": "stdout",
     "output_type": "stream",
     "text": [
      "tensor([[0., 0., 0.,  ..., 0., 0., 0.],\n",
      "        [0., 0., 0.,  ..., 0., 0., 0.],\n",
      "        [0., 0., 0.,  ..., 0., 0., 0.],\n",
      "        ...,\n",
      "        [0., 0., 0.,  ..., 0., 0., 0.],\n",
      "        [0., 0., 0.,  ..., 0., 0., 0.],\n",
      "        [0., 0., 0.,  ..., 0., 0., 0.]]) tensor([5, 0, 4,  ..., 8, 4, 8])\n",
      "torch.Size([50000, 784])\n",
      "tensor(0) tensor(9)\n"
     ]
    }
   ],
   "source": [
    "import torch\n",
    "\n",
    "x_train,y_train,x_valid,y_valid=map(\n",
    "    torch.tensor,(x_train,y_train,x_valid,y_valid)\n",
    ")\n",
    "n,c=x_train.shape\n",
    "x_train,x_train.shape,y_train.min(),y_train.max()\n",
    "print(x_train,y_train)\n",
    "print(x_train.shape)\n",
    "print(y_train.min(),y_train.max())"
   ]
  },
  {
   "cell_type": "markdown",
   "metadata": {},
   "source": [
    "torch.nn.functional 很多层和函数在这里都会见到\n",
    "那么什么时候用nn.Module,什么时候用nn.functional呢？一般情况下，如果模型有可学习的参数，最好用nn.Module,其他用nn.functional相对更简单"
   ]
  },
  {
   "cell_type": "code",
   "execution_count": 18,
   "metadata": {},
   "outputs": [],
   "source": [
    "import torch.nn.functional as F\n",
    "\n",
    "loss_func = F.cross_entropy\n",
    "\n",
    "def model(xb):\n",
    "    return xb.mm(weights)+bias"
   ]
  },
  {
   "cell_type": "code",
   "execution_count": 19,
   "metadata": {},
   "outputs": [
    {
     "name": "stdout",
     "output_type": "stream",
     "text": [
      "tensor(12.7958, grad_fn=<NllLossBackward>)\n"
     ]
    }
   ],
   "source": [
    "bs = 64\n",
    "xb = x_train[0:bs]\n",
    "yb = y_train[0:bs]\n",
    "weights = torch.randn([784,10],dtype=torch.float,requires_grad=True)\n",
    "bs=64\n",
    "bias = torch.zeros(10,requires_grad=True)\n",
    "\n",
    "print(loss_func(model(xb),yb))"
   ]
  },
  {
   "cell_type": "markdown",
   "metadata": {},
   "source": [
    "创建一个model来更简化代码"
   ]
  },
  {
   "cell_type": "code",
   "execution_count": 20,
   "metadata": {},
   "outputs": [],
   "source": [
    "from torch import nn\n",
    "\n",
    "class Mnist_NN(nn.Module):\n",
    "    def __init__(self):\n",
    "        super().__init__()\n",
    "        self.hidden1=nn.Linear(784,128)\n",
    "        self.hidden2=nn.Linear(128,256)\n",
    "        self.out=nn.Linear(256,10)\n",
    "        \n",
    "    def forward(self,x):\n",
    "        x = F.relu(self.hidden1(x))\n",
    "        x = F.relu(self.hidden2(x))\n",
    "        x = self.out(x)\n",
    "        return x\n",
    "    "
   ]
  },
  {
   "cell_type": "code",
   "execution_count": 21,
   "metadata": {},
   "outputs": [
    {
     "name": "stdout",
     "output_type": "stream",
     "text": [
      "Mnist_NN(\n",
      "  (hidden1): Linear(in_features=784, out_features=128, bias=True)\n",
      "  (hidden2): Linear(in_features=128, out_features=256, bias=True)\n",
      "  (out): Linear(in_features=256, out_features=10, bias=True)\n",
      ")\n"
     ]
    }
   ],
   "source": [
    "net = Mnist_NN()\n",
    "print(net)"
   ]
  },
  {
   "cell_type": "code",
   "execution_count": 22,
   "metadata": {},
   "outputs": [],
   "source": [
    "from torch.utils.data import TensorDataset\n",
    "from torch.utils.data import DataLoader\n",
    "\n",
    "train_ds = TensorDataset(x_train,y_train)\n",
    "train_dl = DataLoader(train_ds,batch_size=bs,shuffle=True)\n",
    "\n",
    "valid_ds = TensorDataset(x_valid,y_valid)\n",
    "valid_dl = DataLoader(train_ds,batch_size=bs*2)"
   ]
  },
  {
   "cell_type": "code",
   "execution_count": 24,
   "metadata": {},
   "outputs": [],
   "source": [
    "def get_data(train_ds,valid_ds,bs):\n",
    "    return (\n",
    "        DataLoader(train_ds,batch_size=bs,shuffle=True),\n",
    "        DataLoader(valid_ds,batch_size=bs*2)\n",
    "    )"
   ]
  },
  {
   "cell_type": "code",
   "execution_count": 27,
   "metadata": {},
   "outputs": [],
   "source": [
    "def loss_batch(model,loss_func,xb,yb,opt=None):\n",
    "    loss = loss_func(model(xb),yb)\n",
    "    \n",
    "    if opt is not None:\n",
    "        loss.backward()\n",
    "        opt.step()\n",
    "        opt.zero_grad()\n",
    "        \n",
    "    return loss.item(),len(xb)"
   ]
  },
  {
   "cell_type": "code",
   "execution_count": 34,
   "metadata": {},
   "outputs": [],
   "source": [
    "import numpy as np\n",
    "\n",
    "def fit(steps,model,loss_func,opt,train_dl,valid_dl):\n",
    "    for step in range(steps):\n",
    "        model.train()\n",
    "        for xb,yb in train_dl:\n",
    "            loss_batch(model,loss_func,xb,yb,opt)\n",
    "            \n",
    "        model.eval()\n",
    "        with torch.no_grad():\n",
    "            losses,nums=zip(\n",
    "                *[loss_batch(model,loss_func,xb,yb) for xb,yb in valid_dl]\n",
    "            )\n",
    "            val_loss = np.sum(np.multiply(losses,nums))/ np.sum(nums)\n",
    "            print(\"当前step:\"+str(step),\"验证集损失：\"+str(val_loss))"
   ]
  },
  {
   "cell_type": "code",
   "execution_count": 35,
   "metadata": {},
   "outputs": [],
   "source": [
    "from torch import optim\n",
    "def get_model():\n",
    "    model = Mnist_NN()\n",
    "    return model,optim.SGD(model.parameters(),lr=0.001)"
   ]
  },
  {
   "cell_type": "code",
   "execution_count": 36,
   "metadata": {},
   "outputs": [
    {
     "name": "stdout",
     "output_type": "stream",
     "text": [
      "当前step:0 验证集损失：2.2788135818481443\n",
      "当前step:1 验证集损失：2.2426248256683348\n",
      "当前step:2 验证集损失：2.185637297439575\n",
      "当前step:3 验证集损失：2.090501259613037\n",
      "当前step:4 验证集损失：1.9344349891662598\n",
      "当前step:5 验证集损失：1.7089788038253784\n",
      "当前step:6 验证集损失：1.4480669017791747\n",
      "当前step:7 验证集损失：1.208360311126709\n",
      "当前step:8 验证集损失：1.0194493141174317\n",
      "当前step:9 验证集损失：0.8793843868255615\n",
      "当前step:10 验证集损失：0.7759933253288269\n",
      "当前step:11 验证集损失：0.6975239326477051\n",
      "当前step:12 验证集损失：0.6368100028038025\n",
      "当前step:13 验证集损失：0.5892513094902039\n",
      "当前step:14 验证集损失：0.5508791333675385\n",
      "当前step:15 验证集损失：0.5201240503787994\n",
      "当前step:16 验证集损失：0.49390952267646787\n",
      "当前step:17 验证集损失：0.4722702098846436\n",
      "当前step:18 验证集损失：0.4540692472934723\n",
      "当前step:19 验证集损失：0.4384575770378113\n",
      "当前step:20 验证集损失：0.42499508428573607\n",
      "当前step:21 验证集损失：0.41294923992156984\n",
      "当前step:22 验证集损失：0.40282913999557496\n",
      "当前step:23 验证集损失：0.39288691334724424\n",
      "当前step:24 验证集损失：0.384621440243721\n"
     ]
    }
   ],
   "source": [
    "train_dl,valid_dl = get_data(train_ds,valid_ds,bs)\n",
    "model,opt=get_model()\n",
    "fit(25,model,loss_func,opt,train_dl,valid_dl)"
   ]
  },
  {
   "cell_type": "code",
   "execution_count": null,
   "metadata": {},
   "outputs": [],
   "source": []
  }
 ],
 "metadata": {
  "kernelspec": {
   "display_name": "Python 3",
   "language": "python",
   "name": "python3"
  },
  "language_info": {
   "codemirror_mode": {
    "name": "ipython",
    "version": 3
   },
   "file_extension": ".py",
   "mimetype": "text/x-python",
   "name": "python",
   "nbconvert_exporter": "python",
   "pygments_lexer": "ipython3",
   "version": "3.8.5"
  }
 },
 "nbformat": 4,
 "nbformat_minor": 4
}
