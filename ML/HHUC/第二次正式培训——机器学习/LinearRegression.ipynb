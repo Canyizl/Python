{
 "cells": [
  {
   "cell_type": "code",
   "execution_count": 1,
   "metadata": {},
   "outputs": [],
   "source": [
    "import numpy as np\n",
    "import matplotlib.pyplot as plt"
   ]
  },
  {
   "cell_type": "code",
   "execution_count": 2,
   "metadata": {},
   "outputs": [],
   "source": [
    "def compute_costs(b, w, points):\n",
    "    \"\"\"\n",
    "    y = wx + b\n",
    "    \"\"\"\n",
    "    \n",
    "    totalError=0\n",
    "    for i in range(0,len(points)):\n",
    "        x = points[i, 0]\n",
    "        y = points[i, 1]\n",
    "        totalError += (y - (w*x + b))** 2\n",
    "    return totalError / float(len(points))"
   ]
  },
  {
   "cell_type": "code",
   "execution_count": 3,
   "metadata": {},
   "outputs": [],
   "source": [
    "def step_gradient(b_current, w_current, points, learningRate):\n",
    "    b_gradient = 0\n",
    "    w_gradient = 0\n",
    "    N = float(len(points))\n",
    "    for i in range(0,len(points)):\n",
    "        x = points[i, 0]\n",
    "        y = points[i, 1]\n",
    "        b_gradient += -(2 / N) * (y - ((w_current * x) + b_current))    #-(y - y_hat) = (y_hat - y)\n",
    "        w_gradient += -(2 / N) * x * (y - ((w_current * x) + b_current))\n",
    "    new_b = b_current - (b_gradient * learningRate)\n",
    "    new_w = w_current - (w_gradient * learningRate)\n",
    "    return [new_b, new_w]"
   ]
  },
  {
   "cell_type": "code",
   "execution_count": 4,
   "metadata": {},
   "outputs": [],
   "source": [
    "def gradient_descent_runner(points, strating_b, strating_w, learningRate, num_iteration):\n",
    "    b = strating_b\n",
    "    w = strating_w\n",
    "    for i in range(num_iteration):\n",
    "        b, w = step_gradient(b, w, np.array(points), learningRate)\n",
    "    return [b, w]"
   ]
  },
  {
   "cell_type": "code",
   "execution_count": 5,
   "metadata": {},
   "outputs": [],
   "source": [
    "def plot_data(b, w):\n",
    "    plt.scatter(initial_X, initial_y)\n",
    "    plt.xlabel('x1')\n",
    "    plt.ylabel('y1')\n",
    "    x_min, x_max = -0.05, 2.15\n",
    "    x = np.linspace(x_min, x_max, 100)\n",
    "    yy = w * x + b\n",
    "    plt.plot(x, yy, c='orange')\n",
    "    plt.show()"
   ]
  },
  {
   "cell_type": "code",
   "execution_count": 6,
   "metadata": {},
   "outputs": [
    {
     "name": "stdout",
     "output_type": "stream",
     "text": [
      "Starting at b = 2， w = 1 , error = 18.555538008761946\n",
      "-----------\n",
      "After 8000 iterations b = 4.010900453809263， w = 3.015967310680829 , error = 1.098917201736525\n"
     ]
    },
    {
     "data": {
      "image/png": "[encoded data removed]",
      "text/plain": [
       "<Figure size 432x288 with 1 Axes>"
      ]
     },
     "metadata": {
      "needs_background": "light"
     },
     "output_type": "display_data"
    }
   ],
   "source": [
    "points = np.genfromtxt('./data/data.txt', delimiter=' ')\n",
    "learning_rate = 0.001\n",
    "initial_b = 2\n",
    "initial_w = 1\n",
    "num_iterations = 8000\n",
    "print(\"Starting at b = {0}， w = {1} , error = {2}\".format(initial_b, initial_w, compute_costs(initial_b, initial_w, points)))\n",
    "print('-----------')\n",
    "[b, w] = gradient_descent_runner(points, initial_b, initial_w, learning_rate, num_iterations)\n",
    "print(\"After {0} iterations b = {1}， w = {2} , error = {3}\".format(num_iterations, b, w, compute_costs(b, w, points)))\n",
    "initial_X = points[:,0]\n",
    "initial_y = points[:,1]\n",
    "plot_data(b,w)"
   ]
  },
  {
   "cell_type": "code",
   "execution_count": null,
   "metadata": {},
   "outputs": [],
   "source": []
  }
 ],
 "metadata": {
  "kernelspec": {
   "display_name": "Python 3",
   "language": "python",
   "name": "python3"
  },
  "language_info": {
   "codemirror_mode": {
    "name": "ipython",
    "version": 3
   },
   "file_extension": ".py",
   "mimetype": "text/x-python",
   "name": "python",
   "nbconvert_exporter": "python",
   "pygments_lexer": "ipython3",
   "version": "3.8.5"
  }
 },
 "nbformat": 4,
 "nbformat_minor": 4
}
