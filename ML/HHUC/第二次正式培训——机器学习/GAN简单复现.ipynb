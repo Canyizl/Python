{
 "cells": [
  {
   "cell_type": "code",
   "execution_count": 2,
   "metadata": {},
   "outputs": [],
   "source": [
    "import torch\n",
    "from torch import nn\n",
    "from torch import optim\n",
    "from torchvision.transforms import transforms\n",
    "import numpy as np\n",
    "from PIL import Image\n",
    "import matplotlib.pyplot as plt\n",
    "\n",
    "from tqdm.notebook import tqdm\n",
    "import warnings\n",
    "warnings.filterwarnings('ignore')"
   ]
  },
  {
   "cell_type": "code",
   "execution_count": 3,
   "metadata": {},
   "outputs": [
    {
     "name": "stdout",
     "output_type": "stream",
     "text": [
      "torch.Size([3, 32, 32])\n"
     ]
    },
    {
     "data": {
      "image/png": "[encoded data removed]",
      "text/plain": [
       "<Figure size 432x288 with 1 Axes>"
      ]
     },
     "metadata": {
      "needs_background": "light"
     },
     "output_type": "display_data"
    }
   ],
   "source": [
    "transform = transforms.Compose([\n",
    "                                transforms.Resize((32, 32)),\n",
    "                                transforms.ToTensor()\n",
    "])\n",
    "\n",
    "flat_img = 3072\n",
    "\n",
    "img = Image.open('./pic/bk.jpg')\n",
    "real_img = transform(img)\n",
    "plt.imshow(np.transpose(real_img.numpy(), (1, 2, 0)))\n",
    "print(real_img.size())"
   ]
  },
  {
   "cell_type": "code",
   "execution_count": 4,
   "metadata": {},
   "outputs": [
    {
     "data": {
      "text/plain": [
       "(torch.Size([1, 100]), tensor(0.0021), tensor(0.9809))"
      ]
     },
     "execution_count": 4,
     "metadata": {},
     "output_type": "execute_result"
    }
   ],
   "source": [
    "torch.manual_seed(2)\n",
    "\n",
    "fake_img = torch.rand(1, 100)\n",
    "fake_img.size(), fake_img.min(), fake_img.max()"
   ]
  },
  {
   "cell_type": "code",
   "execution_count": 5,
   "metadata": {},
   "outputs": [],
   "source": [
    "class Discriminator(nn.Module):\n",
    "  def __init__(self):\n",
    "    super().__init__()\n",
    "    self.linear = nn.Sequential(\n",
    "        nn.Linear(flat_img, 8000),\n",
    "        nn.ReLU(),\n",
    "        nn.Linear(8000, 1),\n",
    "        nn.Sigmoid()\n",
    "    )\n",
    "\n",
    "  def forward(self, img):\n",
    "    img = img.view(1, -1)\n",
    "    out = self.linear(img)\n",
    "\n",
    "    return out"
   ]
  },
  {
   "cell_type": "code",
   "execution_count": 6,
   "metadata": {},
   "outputs": [],
   "source": [
    "class Generator(nn.Module):\n",
    "  def __init__(self):\n",
    "    super().__init__()\n",
    "    self.linear = nn.Sequential(\n",
    "        nn.Linear(100, 8000),\n",
    "        nn.LeakyReLU(),\n",
    "        nn.Linear(8000, 4000),\n",
    "        nn.LeakyReLU(),\n",
    "        nn.Linear(4000, flat_img)\n",
    "    )\n",
    "\n",
    "  def forward(self, latent_space):\n",
    "    latent_space = latent_space.view(1, -1)\n",
    "    out = self.linear(latent_space)\n",
    "\n",
    "    return out"
   ]
  },
  {
   "cell_type": "code",
   "execution_count": 7,
   "metadata": {},
   "outputs": [
    {
     "name": "stdout",
     "output_type": "stream",
     "text": [
      "Discriminator(\n",
      "  (linear): Sequential(\n",
      "    (0): Linear(in_features=3072, out_features=8000, bias=True)\n",
      "    (1): ReLU()\n",
      "    (2): Linear(in_features=8000, out_features=1, bias=True)\n",
      "    (3): Sigmoid()\n",
      "  )\n",
      ")\n",
      "Generator(\n",
      "  (linear): Sequential(\n",
      "    (0): Linear(in_features=100, out_features=8000, bias=True)\n",
      "    (1): LeakyReLU(negative_slope=0.01)\n",
      "    (2): Linear(in_features=8000, out_features=4000, bias=True)\n",
      "    (3): LeakyReLU(negative_slope=0.01)\n",
      "    (4): Linear(in_features=4000, out_features=3072, bias=True)\n",
      "  )\n",
      ")\n"
     ]
    }
   ],
   "source": [
    "device = 'cuda:0' if torch.cuda.is_available() else 'cpu'\n",
    "\n",
    "discr = Discriminator().to(device)\n",
    "gen = Generator().to(device)\n",
    "print(discr)\n",
    "print(gen)"
   ]
  },
  {
   "cell_type": "code",
   "execution_count": 13,
   "metadata": {},
   "outputs": [],
   "source": [
    "opt_d = optim.SGD(discr.parameters(), lr=0.002, momentum=0.9)\n",
    "opt_g = optim.SGD(gen.parameters(), lr=0.002, momentum=0.9)\n",
    "\n",
    "criterion = nn.BCELoss()"
   ]
  },
  {
   "cell_type": "code",
   "execution_count": 14,
   "metadata": {},
   "outputs": [
    {
     "data": {
      "application/vnd.jupyter.widget-view+json": {
       "model_id": "3de8b550c26a4294886c3c2163ec472b",
       "version_major": 2,
       "version_minor": 0
      },
      "text/plain": [
       "HBox(children=(FloatProgress(value=0.0, max=800.0), HTML(value='')))"
      ]
     },
     "metadata": {},
     "output_type": "display_data"
    },
    {
     "name": "stdout",
     "output_type": "stream",
     "text": [
      "\n"
     ]
    }
   ],
   "source": [
    "epochs = 800\n",
    "discr_e = 4\n",
    "gen_e =3\n",
    "\n",
    "for epoch in tqdm(range(epochs),total=epochs):\n",
    "    \n",
    "    for k in range(discr_e):\n",
    "        opt_d.zero_grad()\n",
    "        \n",
    "        out_d1 = discr(real_img.to(device))\n",
    "        loss_d1 = criterion(out_d1,torch.ones((1,1)).to(device))\n",
    "        loss_d1.backward()\n",
    "        \n",
    "        out_d2 = gen(fake_img.to(device)).detach()\n",
    "        loss_d2 = criterion(discr(out_d2.to(device)),torch.zeros((1,1)).to(device))\n",
    "        loss_d2.backward()\n",
    "        \n",
    "        opt_d.step()\n",
    "        \n",
    "    for i in range(gen_e):\n",
    "        opt_g.zero_grad()\n",
    "        \n",
    "        out_g = gen(fake_img.to(device))\n",
    "        \n",
    "        loss_g = torch.log(1.0 - (discr(out_g.to(device))))\n",
    "        loss_g.backward()\n",
    "        \n",
    "        opt_g.step()\n",
    "torch.cuda.empty_cache()"
   ]
  },
  {
   "cell_type": "code",
   "execution_count": 11,
   "metadata": {},
   "outputs": [
    {
     "name": "stderr",
     "output_type": "stream",
     "text": [
      "Clipping input data to the valid range for imshow with RGB data ([0..1] for floats or [0..255] for integers).\n"
     ]
    },
    {
     "data": {
      "image/png": "[encoded data removed]",
      "text/plain": [
       "<Figure size 576x576 with 2 Axes>"
      ]
     },
     "metadata": {},
     "output_type": "display_data"
    }
   ],
   "source": [
    "plt.figure(figsize=(8, 8))\n",
    "\n",
    "plt.subplot(1, 2, 1)\n",
    "plt.title(\"Generated Image\")\n",
    "plt.xticks([])\n",
    "plt.yticks([])\n",
    "plt.imshow(np.transpose(out_g.resize(3, 32, 32).cpu().detach().numpy(), (1, 2 , 0)))\n",
    "\n",
    "plt.subplot(1, 2, 2)\n",
    "plt.title(\"Original Image\")\n",
    "plt.xticks([])\n",
    "plt.yticks([])\n",
    "plt.imshow(np.transpose(real_img.numpy(), (1, 2, 0)))\n",
    "plt.show()"
   ]
  },
  {
   "cell_type": "code",
   "execution_count": null,
   "metadata": {},
   "outputs": [],
   "source": []
  }
 ],
 "metadata": {
  "kernelspec": {
   "display_name": "Python 3",
   "language": "python",
   "name": "python3"
  },
  "language_info": {
   "codemirror_mode": {
    "name": "ipython",
    "version": 3
   },
   "file_extension": ".py",
   "mimetype": "text/x-python",
   "name": "python",
   "nbconvert_exporter": "python",
   "pygments_lexer": "ipython3",
   "version": "3.8.5"
  }
 },
 "nbformat": 4,
 "nbformat_minor": 4
}
